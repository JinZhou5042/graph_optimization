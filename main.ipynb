{
 "cells": [
  {
   "cell_type": "code",
   "execution_count": 31,
   "metadata": {},
   "outputs": [
    {
     "name": "stdout",
     "output_type": "stream",
     "text": [
      "[Load hlg] loaded in 1.0544 seconds\n",
      "[Load compute keys] loaded in 0.0011 seconds\n",
      "[TaskGraph init] loaded in 6.1535 seconds\n"
     ]
    }
   ],
   "source": [
    "from task_graph import TaskGraph\n",
    "from utils import *\n",
    "\n",
    "def construct_task_graph():\n",
    "    hlg_dict = load_hlg()\n",
    "    compute_keys = load_compute_keys()\n",
    "    task_graph = TaskGraph(hlg_dict, compute_keys)\n",
    "    return task_graph\n",
    "\n",
    "\n",
    "task_graph = construct_task_graph()\n"
   ]
  },
  {
   "cell_type": "code",
   "execution_count": 28,
   "metadata": {},
   "outputs": [
    {
     "name": "stdout",
     "output_type": "stream",
     "text": [
      "TaskGraph size: 164.42 MB\n"
     ]
    }
   ],
   "source": [
    "print_size_of(task_graph, \"TaskGraph\")"
   ]
  },
  {
   "cell_type": "code",
   "execution_count": null,
   "metadata": {},
   "outputs": [
    {
     "ename": "OSError",
     "evalue": "source code not available",
     "output_type": "error",
     "traceback": [
      "\u001b[31m---------------------------------------------------------------------------\u001b[39m",
      "\u001b[31mOSError\u001b[39m                                   Traceback (most recent call last)",
      "\u001b[36mCell\u001b[39m\u001b[36m \u001b[39m\u001b[32mIn[33]\u001b[39m\u001b[32m, line 100\u001b[39m\n\u001b[32m     96\u001b[39m                 \u001b[38;5;28mself\u001b[39m.task_graph.output_vine_file_of[k] = f\n\u001b[32m     98\u001b[39m             \u001b[38;5;28mself\u001b[39m.manager.submit(t)\n\u001b[32m--> \u001b[39m\u001b[32m100\u001b[39m task_graph_executor = \u001b[43mTaskGraphExecutor\u001b[49m\u001b[43m(\u001b[49m\u001b[43mtask_graph\u001b[49m\u001b[43m)\u001b[49m\n\u001b[32m    101\u001b[39m \u001b[38;5;28mprint\u001b[39m(task_graph_executor.ready_keys)\n",
      "\u001b[36mCell\u001b[39m\u001b[36m \u001b[39m\u001b[32mIn[33]\u001b[39m\u001b[32m, line 53\u001b[39m, in \u001b[36mTaskGraphExecutor.__init__\u001b[39m\u001b[34m(self, task_graph)\u001b[39m\n\u001b[32m     51\u001b[39m \u001b[38;5;28mself\u001b[39m.manager = vine.Manager(\u001b[32m9122\u001b[39m, name=\u001b[33m\"\u001b[39m\u001b[33mgraph-optimization\u001b[39m\u001b[33m\"\u001b[39m)\n\u001b[32m     52\u001b[39m \u001b[38;5;28mself\u001b[39m.manager.tune(\u001b[33m\"\u001b[39m\u001b[33mwatch-library-logfiles\u001b[39m\u001b[33m\"\u001b[39m, \u001b[32m1\u001b[39m)\n\u001b[32m---> \u001b[39m\u001b[32m53\u001b[39m \u001b[38;5;28mself\u001b[39m.libtask = \u001b[38;5;28;43mself\u001b[39;49m\u001b[43m.\u001b[49m\u001b[43mmanager\u001b[49m\u001b[43m.\u001b[49m\u001b[43mcreate_library_from_functions\u001b[49m\u001b[43m(\u001b[49m\u001b[33;43m'\u001b[39;49m\u001b[33;43mdask-library\u001b[39;49m\u001b[33;43m'\u001b[39;49m\u001b[43m,\u001b[49m\u001b[43m \u001b[49m\u001b[43mexecute_group\u001b[49m\u001b[43m,\u001b[49m\u001b[43m \u001b[49m\u001b[43madd_env\u001b[49m\u001b[43m=\u001b[49m\u001b[38;5;28;43;01mFalse\u001b[39;49;00m\u001b[43m,\u001b[49m\u001b[43m \u001b[49m\u001b[43mhoisting_modules\u001b[49m\u001b[43m=\u001b[49m\u001b[43m[\u001b[49m\u001b[43mSimpleGroup\u001b[49m\u001b[43m]\u001b[49m\u001b[43m)\u001b[49m\n\u001b[32m     54\u001b[39m \u001b[38;5;28mself\u001b[39m.manager.install_library(\u001b[38;5;28mself\u001b[39m.libtask)\n\u001b[32m     56\u001b[39m \u001b[38;5;28mself\u001b[39m.task_graph = task_graph\n",
      "\u001b[36mFile \u001b[39m\u001b[32m~/miniconda3/envs/dv5/lib/python3.11/site-packages/ndcctools/taskvine/manager.py:995\u001b[39m, in \u001b[36mManager.create_library_from_functions\u001b[39m\u001b[34m(self, library_name, poncho_env, init_command, add_env, hoisting_modules, exec_mode, library_context_info, *function_list)\u001b[39m\n\u001b[32m    991\u001b[39m     need_pack = \u001b[38;5;28;01mFalse\u001b[39;00m\n\u001b[32m    993\u001b[39m \u001b[38;5;66;03m# create library code\u001b[39;00m\n\u001b[32m    994\u001b[39m \u001b[38;5;66;03m# environment is also created if need_pack is True\u001b[39;00m\n\u001b[32m--> \u001b[39m\u001b[32m995\u001b[39m \u001b[43mpackage_serverize\u001b[49m\u001b[43m.\u001b[49m\u001b[43mgenerate_library\u001b[49m\u001b[43m(\u001b[49m\u001b[43mlibrary_cache_path\u001b[49m\u001b[43m=\u001b[49m\u001b[43mlibrary_cache_path\u001b[49m\u001b[43m,\u001b[49m\n\u001b[32m    996\u001b[39m \u001b[43m                                   \u001b[49m\u001b[43mlibrary_code_path\u001b[49m\u001b[43m=\u001b[49m\u001b[43mlibrary_code_path\u001b[49m\u001b[43m,\u001b[49m\n\u001b[32m    997\u001b[39m \u001b[43m                                   \u001b[49m\u001b[43mlibrary_env_path\u001b[49m\u001b[43m=\u001b[49m\u001b[43mlibrary_env_path\u001b[49m\u001b[43m,\u001b[49m\n\u001b[32m    998\u001b[39m \u001b[43m                                   \u001b[49m\u001b[43mlibrary_info_path\u001b[49m\u001b[43m=\u001b[49m\u001b[43mlibrary_info_path\u001b[49m\u001b[43m,\u001b[49m\n\u001b[32m    999\u001b[39m \u001b[43m                                   \u001b[49m\u001b[43mfunctions\u001b[49m\u001b[43m=\u001b[49m\u001b[43mfunction_list\u001b[49m\u001b[43m,\u001b[49m\n\u001b[32m   1000\u001b[39m \u001b[43m                                   \u001b[49m\u001b[43mlibrary_name\u001b[49m\u001b[43m=\u001b[49m\u001b[43mlibrary_name\u001b[49m\u001b[43m,\u001b[49m\n\u001b[32m   1001\u001b[39m \u001b[43m                                   \u001b[49m\u001b[43mneed_pack\u001b[49m\u001b[43m=\u001b[49m\u001b[43mneed_pack\u001b[49m\u001b[43m,\u001b[49m\n\u001b[32m   1002\u001b[39m \u001b[43m                                   \u001b[49m\u001b[43mexec_mode\u001b[49m\u001b[43m=\u001b[49m\u001b[43mexec_mode\u001b[49m\u001b[43m,\u001b[49m\n\u001b[32m   1003\u001b[39m \u001b[43m                                   \u001b[49m\u001b[43mhoisting_modules\u001b[49m\u001b[43m=\u001b[49m\u001b[43mhoisting_modules\u001b[49m\u001b[43m,\u001b[49m\n\u001b[32m   1004\u001b[39m \u001b[43m                                   \u001b[49m\u001b[43mlibrary_context_info\u001b[49m\u001b[43m=\u001b[49m\u001b[43mlibrary_context_info\u001b[49m\u001b[43m)\u001b[49m\n\u001b[32m   1006\u001b[39m \u001b[38;5;66;03m# enable correct permissions for library code\u001b[39;00m\n\u001b[32m   1007\u001b[39m os.chmod(library_code_path, \u001b[32m0o775\u001b[39m)\n",
      "\u001b[36mFile \u001b[39m\u001b[32m~/miniconda3/envs/dv5/lib/python3.11/site-packages/ndcctools/poncho/package_serverize.py:320\u001b[39m, in \u001b[36mgenerate_library\u001b[39m\u001b[34m(library_cache_path, library_code_path, library_env_path, library_info_path, functions, library_name, need_pack, exec_mode, hoisting_modules, library_context_info)\u001b[39m\n\u001b[32m    317\u001b[39m     cloudpickle.dump(library_info, f) \n\u001b[32m    319\u001b[39m \u001b[38;5;66;03m# create library_code.py\u001b[39;00m\n\u001b[32m--> \u001b[39m\u001b[32m320\u001b[39m \u001b[43mgenerate_taskvine_library_code\u001b[49m\u001b[43m(\u001b[49m\u001b[43mlibrary_code_path\u001b[49m\u001b[43m,\u001b[49m\u001b[43m \u001b[49m\u001b[43mhoisting_modules\u001b[49m\u001b[43m=\u001b[49m\u001b[43mhoisting_modules\u001b[49m\u001b[43m)\u001b[49m\n\u001b[32m    322\u001b[39m \u001b[38;5;66;03m# pack environment\u001b[39;00m\n\u001b[32m    323\u001b[39m \u001b[38;5;28;01mif\u001b[39;00m need_pack:\n",
      "\u001b[36mFile \u001b[39m\u001b[32m~/miniconda3/envs/dv5/lib/python3.11/site-packages/ndcctools/poncho/package_serverize.py:273\u001b[39m, in \u001b[36mgenerate_taskvine_library_code\u001b[39m\u001b[34m(library_path, hoisting_modules)\u001b[39m\n\u001b[32m    271\u001b[39m output_file.write(shebang)\n\u001b[32m    272\u001b[39m \u001b[38;5;66;03m# write imports to file\u001b[39;00m\n\u001b[32m--> \u001b[39m\u001b[32m273\u001b[39m hoisting_code_list = \u001b[43mgenerate_hoisting_code\u001b[49m\u001b[43m(\u001b[49m\u001b[43mhoisting_modules\u001b[49m\u001b[43m)\u001b[49m\n\u001b[32m    274\u001b[39m \u001b[38;5;28;01mif\u001b[39;00m hoisting_code_list:\n\u001b[32m    275\u001b[39m     \u001b[38;5;28;01mfor\u001b[39;00m hoisting_code \u001b[38;5;129;01min\u001b[39;00m hoisting_code_list:\n",
      "\u001b[36mFile \u001b[39m\u001b[32m~/miniconda3/envs/dv5/lib/python3.11/site-packages/ndcctools/poncho/package_serverize.py:54\u001b[39m, in \u001b[36mgenerate_hoisting_code\u001b[39m\u001b[34m(hoisting_modules)\u001b[39m\n\u001b[32m     52\u001b[39m         hoisting_code_list.append(source_code)\n\u001b[32m     53\u001b[39m     \u001b[38;5;28;01melif\u001b[39;00m inspect.isclass(module):\n\u001b[32m---> \u001b[39m\u001b[32m54\u001b[39m         source_code = \u001b[43minspect\u001b[49m\u001b[43m.\u001b[49m\u001b[43mgetsource\u001b[49m\u001b[43m(\u001b[49m\u001b[43mmodule\u001b[49m\u001b[43m)\u001b[49m\n\u001b[32m     55\u001b[39m         hoisting_code_list.append(source_code)\n\u001b[32m     57\u001b[39m \u001b[38;5;28;01mreturn\u001b[39;00m hoisting_code_list\n",
      "\u001b[36mFile \u001b[39m\u001b[32m~/miniconda3/envs/dv5/lib/python3.11/inspect.py:1258\u001b[39m, in \u001b[36mgetsource\u001b[39m\u001b[34m(object)\u001b[39m\n\u001b[32m   1252\u001b[39m \u001b[38;5;28;01mdef\u001b[39;00m\u001b[38;5;250m \u001b[39m\u001b[34mgetsource\u001b[39m(\u001b[38;5;28mobject\u001b[39m):\n\u001b[32m   1253\u001b[39m \u001b[38;5;250m    \u001b[39m\u001b[33;03m\"\"\"Return the text of the source code for an object.\u001b[39;00m\n\u001b[32m   1254\u001b[39m \n\u001b[32m   1255\u001b[39m \u001b[33;03m    The argument may be a module, class, method, function, traceback, frame,\u001b[39;00m\n\u001b[32m   1256\u001b[39m \u001b[33;03m    or code object.  The source code is returned as a single string.  An\u001b[39;00m\n\u001b[32m   1257\u001b[39m \u001b[33;03m    OSError is raised if the source code cannot be retrieved.\"\"\"\u001b[39;00m\n\u001b[32m-> \u001b[39m\u001b[32m1258\u001b[39m     lines, lnum = \u001b[43mgetsourcelines\u001b[49m\u001b[43m(\u001b[49m\u001b[38;5;28;43mobject\u001b[39;49m\u001b[43m)\u001b[49m\n\u001b[32m   1259\u001b[39m     \u001b[38;5;28;01mreturn\u001b[39;00m \u001b[33m'\u001b[39m\u001b[33m'\u001b[39m.join(lines)\n",
      "\u001b[36mFile \u001b[39m\u001b[32m~/miniconda3/envs/dv5/lib/python3.11/inspect.py:1240\u001b[39m, in \u001b[36mgetsourcelines\u001b[39m\u001b[34m(object)\u001b[39m\n\u001b[32m   1232\u001b[39m \u001b[38;5;250m\u001b[39m\u001b[33;03m\"\"\"Return a list of source lines and starting line number for an object.\u001b[39;00m\n\u001b[32m   1233\u001b[39m \n\u001b[32m   1234\u001b[39m \u001b[33;03mThe argument may be a module, class, method, function, traceback, frame,\u001b[39;00m\n\u001b[32m   (...)\u001b[39m\u001b[32m   1237\u001b[39m \u001b[33;03moriginal source file the first line of code was found.  An OSError is\u001b[39;00m\n\u001b[32m   1238\u001b[39m \u001b[33;03mraised if the source code cannot be retrieved.\"\"\"\u001b[39;00m\n\u001b[32m   1239\u001b[39m \u001b[38;5;28mobject\u001b[39m = unwrap(\u001b[38;5;28mobject\u001b[39m)\n\u001b[32m-> \u001b[39m\u001b[32m1240\u001b[39m lines, lnum = \u001b[43mfindsource\u001b[49m\u001b[43m(\u001b[49m\u001b[38;5;28;43mobject\u001b[39;49m\u001b[43m)\u001b[49m\n\u001b[32m   1242\u001b[39m \u001b[38;5;28;01mif\u001b[39;00m istraceback(\u001b[38;5;28mobject\u001b[39m):\n\u001b[32m   1243\u001b[39m     \u001b[38;5;28mobject\u001b[39m = \u001b[38;5;28mobject\u001b[39m.tb_frame\n",
      "\u001b[36mFile \u001b[39m\u001b[32m~/miniconda3/envs/dv5/lib/python3.11/inspect.py:1059\u001b[39m, in \u001b[36mfindsource\u001b[39m\u001b[34m(object)\u001b[39m\n\u001b[32m   1051\u001b[39m \u001b[38;5;28;01mdef\u001b[39;00m\u001b[38;5;250m \u001b[39m\u001b[34mfindsource\u001b[39m(\u001b[38;5;28mobject\u001b[39m):\n\u001b[32m   1052\u001b[39m \u001b[38;5;250m    \u001b[39m\u001b[33;03m\"\"\"Return the entire source file and starting line number for an object.\u001b[39;00m\n\u001b[32m   1053\u001b[39m \n\u001b[32m   1054\u001b[39m \u001b[33;03m    The argument may be a module, class, method, function, traceback, frame,\u001b[39;00m\n\u001b[32m   1055\u001b[39m \u001b[33;03m    or code object.  The source code is returned as a list of all the lines\u001b[39;00m\n\u001b[32m   1056\u001b[39m \u001b[33;03m    in the file and the line number indexes a line in that list.  An OSError\u001b[39;00m\n\u001b[32m   1057\u001b[39m \u001b[33;03m    is raised if the source code cannot be retrieved.\"\"\"\u001b[39;00m\n\u001b[32m-> \u001b[39m\u001b[32m1059\u001b[39m     file = \u001b[43mgetsourcefile\u001b[49m\u001b[43m(\u001b[49m\u001b[38;5;28;43mobject\u001b[39;49m\u001b[43m)\u001b[49m\n\u001b[32m   1060\u001b[39m     \u001b[38;5;28;01mif\u001b[39;00m file:\n\u001b[32m   1061\u001b[39m         \u001b[38;5;66;03m# Invalidate cache if needed.\u001b[39;00m\n\u001b[32m   1062\u001b[39m         linecache.checkcache(file)\n",
      "\u001b[36mFile \u001b[39m\u001b[32m~/miniconda3/envs/dv5/lib/python3.11/inspect.py:936\u001b[39m, in \u001b[36mgetsourcefile\u001b[39m\u001b[34m(object)\u001b[39m\n\u001b[32m    932\u001b[39m \u001b[38;5;28;01mdef\u001b[39;00m\u001b[38;5;250m \u001b[39m\u001b[34mgetsourcefile\u001b[39m(\u001b[38;5;28mobject\u001b[39m):\n\u001b[32m    933\u001b[39m \u001b[38;5;250m    \u001b[39m\u001b[33;03m\"\"\"Return the filename that can be used to locate an object's source.\u001b[39;00m\n\u001b[32m    934\u001b[39m \u001b[33;03m    Return None if no way can be identified to get the source.\u001b[39;00m\n\u001b[32m    935\u001b[39m \u001b[33;03m    \"\"\"\u001b[39;00m\n\u001b[32m--> \u001b[39m\u001b[32m936\u001b[39m     filename = \u001b[43mgetfile\u001b[49m\u001b[43m(\u001b[49m\u001b[38;5;28;43mobject\u001b[39;49m\u001b[43m)\u001b[49m\n\u001b[32m    937\u001b[39m     all_bytecode_suffixes = importlib.machinery.DEBUG_BYTECODE_SUFFIXES[:]\n\u001b[32m    938\u001b[39m     all_bytecode_suffixes += importlib.machinery.OPTIMIZED_BYTECODE_SUFFIXES[:]\n",
      "\u001b[36mFile \u001b[39m\u001b[32m~/miniconda3/envs/dv5/lib/python3.11/inspect.py:904\u001b[39m, in \u001b[36mgetfile\u001b[39m\u001b[34m(object)\u001b[39m\n\u001b[32m    902\u001b[39m             \u001b[38;5;28;01mreturn\u001b[39;00m module.\u001b[34m__file__\u001b[39m\n\u001b[32m    903\u001b[39m         \u001b[38;5;28;01mif\u001b[39;00m \u001b[38;5;28mobject\u001b[39m.\u001b[34m__module__\u001b[39m == \u001b[33m'\u001b[39m\u001b[33m__main__\u001b[39m\u001b[33m'\u001b[39m:\n\u001b[32m--> \u001b[39m\u001b[32m904\u001b[39m             \u001b[38;5;28;01mraise\u001b[39;00m \u001b[38;5;167;01mOSError\u001b[39;00m(\u001b[33m'\u001b[39m\u001b[33msource code not available\u001b[39m\u001b[33m'\u001b[39m)\n\u001b[32m    905\u001b[39m     \u001b[38;5;28;01mraise\u001b[39;00m \u001b[38;5;167;01mTypeError\u001b[39;00m(\u001b[33m'\u001b[39m\u001b[38;5;132;01m{!r}\u001b[39;00m\u001b[33m is a built-in class\u001b[39m\u001b[33m'\u001b[39m.format(\u001b[38;5;28mobject\u001b[39m))\n\u001b[32m    906\u001b[39m \u001b[38;5;28;01mif\u001b[39;00m ismethod(\u001b[38;5;28mobject\u001b[39m):\n",
      "\u001b[31mOSError\u001b[39m: source code not available"
     ]
    },
    {
     "ename": "",
     "evalue": "",
     "output_type": "error",
     "traceback": [
      "\u001b[1;31mThe Kernel crashed while executing code in the current cell or a previous cell. \n",
      "\u001b[1;31mPlease review the code in the cell(s) to identify a possible cause of the failure. \n",
      "\u001b[1;31mClick <a href='https://aka.ms/vscodeJupyterKernelCrash'>here</a> for more info. \n",
      "\u001b[1;31mView Jupyter <a href='command:jupyter.viewOutput'>log</a> for further details."
     ]
    }
   ],
   "source": [
    "import ndcctools.taskvine as vine\n",
    "from ndcctools.taskvine import FunctionCall\n",
    "\n",
    "class SimpleGroup:\n",
    "    def __init__(self, keys, sexpr_of, topo_order, input_paths, output_paths):\n",
    "        self.keys = keys\n",
    "        self.sexpr_of = sexpr_of\n",
    "        self.topo_order = topo_order\n",
    "\n",
    "        # these keys include external parents\n",
    "        self.input_paths = input_paths         # {key: input filename}\n",
    "        self.output_paths = output_paths       # {key: output filename}\n",
    "        \n",
    "        # store results for keys in this group and its parents\n",
    "        self.values = {}\n",
    "\n",
    "def execute_group(group: SimpleGroup):\n",
    "    # load parent task outputs\n",
    "    for k, path in group.input_paths.items():\n",
    "        try:\n",
    "            with open(path, 'rb') as f:\n",
    "                group.values[k] = cloudpickle.load(f)\n",
    "        except Exception as e:\n",
    "            raise(f\"Error loading input {k} from {path}: {e}\")\n",
    "\n",
    "    def rec_call(expr):\n",
    "        try:\n",
    "            if expr in group.values:\n",
    "                return group.values[expr]\n",
    "        except TypeError:\n",
    "            pass\n",
    "        if isinstance(expr, list):\n",
    "            return [rec_call(e) for e in expr]\n",
    "        if isinstance(expr, tuple) and callable(expr[0]):\n",
    "            return expr[0](*[rec_call(a) for a in expr[1:]])\n",
    "        return expr\n",
    "\n",
    "    for k in group.topo_order:\n",
    "        result = rec_call(group.sexpr_of[k])\n",
    "        group.values[k] = result\n",
    "\n",
    "        if k in group.output_paths:\n",
    "            with open(group.output_paths[k], 'wb') as f:\n",
    "                cloudpickle.dump(result, f)\n",
    "\n",
    "    return group.topo_order\n",
    "\n",
    "\n",
    "class TaskGraphExecutor():\n",
    "    def __init__(self, task_graph):\n",
    "        self.manager = vine.Manager(9123, name=\"graph-optimization\")\n",
    "        self.manager.tune(\"watch-library-logfiles\", 1)\n",
    "        self.libtask = self.manager.create_library_from_functions('dask-library', execute_group, add_env=False, hoisting_modules=[SimpleGroup])\n",
    "        self.manager.install_library(self.libtask)\n",
    "\n",
    "        self.task_graph = task_graph\n",
    "        self.num_pending_parents_of_key = {\n",
    "            k: v.in_degree() for k, v in self.task_graph.key_to_vertex.items()\n",
    "        }\n",
    "        self.ready_keys = [k for k, count in self.num_pending_parents_of_key.items() if count == 0]\n",
    "\n",
    "    def create_group(self, key):\n",
    "        group_keys = {key}\n",
    "        group_sexpr_of = self.task_graph.get_sexpr_of_group(group_keys)\n",
    "        group_topo_order = self.task_graph.get_topo_order_of_group(group_keys)\n",
    "\n",
    "        group_input_paths = self.task_graph.get_input_keys_of_group(group_keys)\n",
    "        group_output_paths = self.task_graph.get_output_keys_of_group(group_keys)\n",
    "\n",
    "        group = SimpleGroup(\n",
    "            keys=group_keys,\n",
    "            sexpr_of=group_sexpr_of,\n",
    "            topo_order=group_topo_order,\n",
    "            input_paths=group_input_paths,\n",
    "            output_paths=group_output_paths,\n",
    "        )\n",
    "        return group\n",
    "\n",
    "    def execute(self):\n",
    "        while True:\n",
    "            # pop a runnable key\n",
    "            rk = self.ready_keys.popleft()\n",
    "            # create a function call task\n",
    "            group = self.create_group(rk)\n",
    "            t = FunctionCall('dask-library', 'execute_group', group)\n",
    "            t.enable_temp_output()\n",
    "\n",
    "            # add input files\n",
    "            for k in self.task_graph.get_input_keys_of_group(group.keys):\n",
    "                t.add_input(self.task_graph.get_output_vine_file_of(k), self.task_graph.get_output_filename_of(k))\n",
    "\n",
    "            # add output files\n",
    "            for k in self.task_graph.get_output_keys_of_group(group.keys):\n",
    "                f = self.manager.declare_temp()\n",
    "                t.add_output(f, self.task_graph.output_filename_of[k])\n",
    "                self.task_graph.output_vine_file_of[k] = f\n",
    "\n",
    "            self.manager.submit(t)\n",
    "\n",
    "task_graph_executor = TaskGraphExecutor(task_graph)\n",
    "print(task_graph_executor.ready_keys)\n",
    "\n",
    "\n",
    "\n",
    "\n",
    "\n",
    "\n"
   ]
  }
 ],
 "metadata": {
  "kernelspec": {
   "display_name": "dv5",
   "language": "python",
   "name": "python3"
  },
  "language_info": {
   "codemirror_mode": {
    "name": "ipython",
    "version": 3
   },
   "file_extension": ".py",
   "mimetype": "text/x-python",
   "name": "python",
   "nbconvert_exporter": "python",
   "pygments_lexer": "ipython3",
   "version": "3.11.12"
  }
 },
 "nbformat": 4,
 "nbformat_minor": 2
}
